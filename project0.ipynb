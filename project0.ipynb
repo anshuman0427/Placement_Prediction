{
  "cells": [
    {
      "cell_type": "code",
      "execution_count": 37,
      "metadata": {
        "colab": {
          "base_uri": "https://localhost:8080/"
        },
        "id": "r_acOOgar5iu",
        "outputId": "1b4eacb1-5b63-4a84-be8c-8d7c1003563f"
      },
      "outputs": [
        {
          "name": "stdout",
          "output_type": "stream",
          "text": [
            "Requirement already satisfied: sklearn.model in c:\\users\\anshuman\\appdata\\local\\programs\\python\\python311\\lib\\site-packages (0.0.6)\n",
            "Requirement already satisfied: scikit-learn>=0.22 in c:\\users\\anshuman\\appdata\\local\\programs\\python\\python311\\lib\\site-packages (from sklearn.model) (1.3.1)\n",
            "Requirement already satisfied: pandas in c:\\users\\anshuman\\appdata\\local\\programs\\python\\python311\\lib\\site-packages (from sklearn.model) (2.1.4)\n",
            "Requirement already satisfied: numpy<2.0,>=1.17.3 in c:\\users\\anshuman\\appdata\\local\\programs\\python\\python311\\lib\\site-packages (from scikit-learn>=0.22->sklearn.model) (1.26.0)\n",
            "Requirement already satisfied: scipy>=1.5.0 in c:\\users\\anshuman\\appdata\\local\\programs\\python\\python311\\lib\\site-packages (from scikit-learn>=0.22->sklearn.model) (1.11.2)\n",
            "Requirement already satisfied: joblib>=1.1.1 in c:\\users\\anshuman\\appdata\\local\\programs\\python\\python311\\lib\\site-packages (from scikit-learn>=0.22->sklearn.model) (1.3.2)\n",
            "Requirement already satisfied: threadpoolctl>=2.0.0 in c:\\users\\anshuman\\appdata\\local\\programs\\python\\python311\\lib\\site-packages (from scikit-learn>=0.22->sklearn.model) (3.2.0)\n",
            "Requirement already satisfied: python-dateutil>=2.8.2 in c:\\users\\anshuman\\appdata\\local\\programs\\python\\python311\\lib\\site-packages (from pandas->sklearn.model) (2.8.2)\n",
            "Requirement already satisfied: pytz>=2020.1 in c:\\users\\anshuman\\appdata\\local\\programs\\python\\python311\\lib\\site-packages (from pandas->sklearn.model) (2023.3.post1)\n",
            "Requirement already satisfied: tzdata>=2022.1 in c:\\users\\anshuman\\appdata\\local\\programs\\python\\python311\\lib\\site-packages (from pandas->sklearn.model) (2023.3)\n",
            "Requirement already satisfied: six>=1.5 in c:\\users\\anshuman\\appdata\\local\\programs\\python\\python311\\lib\\site-packages (from python-dateutil>=2.8.2->pandas->sklearn.model) (1.16.0)\n"
          ]
        },
        {
          "name": "stderr",
          "output_type": "stream",
          "text": [
            "WARNING: Ignoring invalid distribution ~upyterlab (C:\\Users\\Anshuman\\AppData\\Local\\Programs\\Python\\Python311\\Lib\\site-packages)\n",
            "WARNING: Ignoring invalid distribution ~upyterlab (C:\\Users\\Anshuman\\AppData\\Local\\Programs\\Python\\Python311\\Lib\\site-packages)\n",
            "\n",
            "[notice] A new release of pip is available: 23.3.1 -> 23.3.2\n",
            "[notice] To update, run: python.exe -m pip install --upgrade pip\n"
          ]
        },
        {
          "name": "stdout",
          "output_type": "stream",
          "text": [
            "Collecting mlxtend\n",
            "  Downloading mlxtend-0.23.0-py3-none-any.whl.metadata (7.3 kB)\n",
            "Requirement already satisfied: scipy>=1.2.1 in c:\\users\\anshuman\\appdata\\local\\programs\\python\\python311\\lib\\site-packages (from mlxtend) (1.11.2)\n",
            "Requirement already satisfied: numpy>=1.16.2 in c:\\users\\anshuman\\appdata\\local\\programs\\python\\python311\\lib\\site-packages (from mlxtend) (1.26.0)\n",
            "Requirement already satisfied: pandas>=0.24.2 in c:\\users\\anshuman\\appdata\\local\\programs\\python\\python311\\lib\\site-packages (from mlxtend) (2.1.4)\n",
            "Requirement already satisfied: scikit-learn>=1.0.2 in c:\\users\\anshuman\\appdata\\local\\programs\\python\\python311\\lib\\site-packages (from mlxtend) (1.3.1)\n",
            "Requirement already satisfied: matplotlib>=3.0.0 in c:\\users\\anshuman\\appdata\\local\\programs\\python\\python311\\lib\\site-packages (from mlxtend) (3.8.0)\n",
            "Requirement already satisfied: joblib>=0.13.2 in c:\\users\\anshuman\\appdata\\local\\programs\\python\\python311\\lib\\site-packages (from mlxtend) (1.3.2)\n",
            "Requirement already satisfied: contourpy>=1.0.1 in c:\\users\\anshuman\\appdata\\local\\programs\\python\\python311\\lib\\site-packages (from matplotlib>=3.0.0->mlxtend) (1.1.1)\n",
            "Requirement already satisfied: cycler>=0.10 in c:\\users\\anshuman\\appdata\\local\\programs\\python\\python311\\lib\\site-packages (from matplotlib>=3.0.0->mlxtend) (0.11.0)\n",
            "Requirement already satisfied: fonttools>=4.22.0 in c:\\users\\anshuman\\appdata\\local\\programs\\python\\python311\\lib\\site-packages (from matplotlib>=3.0.0->mlxtend) (4.42.1)\n",
            "Requirement already satisfied: kiwisolver>=1.0.1 in c:\\users\\anshuman\\appdata\\local\\programs\\python\\python311\\lib\\site-packages (from matplotlib>=3.0.0->mlxtend) (1.4.5)\n",
            "Requirement already satisfied: packaging>=20.0 in c:\\users\\anshuman\\appdata\\local\\programs\\python\\python311\\lib\\site-packages (from matplotlib>=3.0.0->mlxtend) (23.1)\n",
            "Requirement already satisfied: pillow>=6.2.0 in c:\\users\\anshuman\\appdata\\local\\programs\\python\\python311\\lib\\site-packages (from matplotlib>=3.0.0->mlxtend) (10.0.0)\n",
            "Requirement already satisfied: pyparsing>=2.3.1 in c:\\users\\anshuman\\appdata\\local\\programs\\python\\python311\\lib\\site-packages (from matplotlib>=3.0.0->mlxtend) (3.1.1)\n",
            "Requirement already satisfied: python-dateutil>=2.7 in c:\\users\\anshuman\\appdata\\local\\programs\\python\\python311\\lib\\site-packages (from matplotlib>=3.0.0->mlxtend) (2.8.2)\n",
            "Requirement already satisfied: pytz>=2020.1 in c:\\users\\anshuman\\appdata\\local\\programs\\python\\python311\\lib\\site-packages (from pandas>=0.24.2->mlxtend) (2023.3.post1)\n",
            "Requirement already satisfied: tzdata>=2022.1 in c:\\users\\anshuman\\appdata\\local\\programs\\python\\python311\\lib\\site-packages (from pandas>=0.24.2->mlxtend) (2023.3)\n",
            "Requirement already satisfied: threadpoolctl>=2.0.0 in c:\\users\\anshuman\\appdata\\local\\programs\\python\\python311\\lib\\site-packages (from scikit-learn>=1.0.2->mlxtend) (3.2.0)\n",
            "Requirement already satisfied: six>=1.5 in c:\\users\\anshuman\\appdata\\local\\programs\\python\\python311\\lib\\site-packages (from python-dateutil>=2.7->matplotlib>=3.0.0->mlxtend) (1.16.0)\n",
            "Downloading mlxtend-0.23.0-py3-none-any.whl (1.4 MB)\n",
            "   ---------------------------------------- 0.0/1.4 MB ? eta -:--:--\n",
            "   - -------------------------------------- 0.0/1.4 MB 991.0 kB/s eta 0:00:02\n",
            "   -- ------------------------------------- 0.1/1.4 MB 1.1 MB/s eta 0:00:02\n",
            "   --- ------------------------------------ 0.1/1.4 MB 1.1 MB/s eta 0:00:02\n",
            "   ----- ---------------------------------- 0.2/1.4 MB 1.1 MB/s eta 0:00:02\n",
            "   ----- ---------------------------------- 0.2/1.4 MB 1.1 MB/s eta 0:00:02\n",
            "   ----- ---------------------------------- 0.2/1.4 MB 772.8 kB/s eta 0:00:02\n",
            "   ------- -------------------------------- 0.3/1.4 MB 947.5 kB/s eta 0:00:02\n",
            "   ------- -------------------------------- 0.3/1.4 MB 947.5 kB/s eta 0:00:02\n",
            "   --------- ------------------------------ 0.3/1.4 MB 873.8 kB/s eta 0:00:02\n",
            "   --------- ------------------------------ 0.4/1.4 MB 768.6 kB/s eta 0:00:02\n",
            "   ----------- ---------------------------- 0.4/1.4 MB 846.3 kB/s eta 0:00:02\n",
            "   ------------ --------------------------- 0.5/1.4 MB 842.4 kB/s eta 0:00:02\n",
            "   -------------- ------------------------- 0.5/1.4 MB 885.8 kB/s eta 0:00:02\n",
            "   ---------------- ----------------------- 0.6/1.4 MB 917.5 kB/s eta 0:00:01\n",
            "   ----------------- ---------------------- 0.6/1.4 MB 909.2 kB/s eta 0:00:01\n",
            "   ------------------ --------------------- 0.7/1.4 MB 932.2 kB/s eta 0:00:01\n",
            "   ------------------- -------------------- 0.7/1.4 MB 878.5 kB/s eta 0:00:01\n",
            "   --------------------- ------------------ 0.8/1.4 MB 950.8 kB/s eta 0:00:01\n",
            "   ---------------------- ----------------- 0.8/1.4 MB 941.7 kB/s eta 0:00:01\n",
            "   ------------------------ --------------- 0.9/1.4 MB 960.7 kB/s eta 0:00:01\n",
            "   ------------------------- -------------- 0.9/1.4 MB 994.5 kB/s eta 0:00:01\n",
            "   ---------------------------- ----------- 1.0/1.4 MB 1.0 MB/s eta 0:00:01\n",
            "   ------------------------------ --------- 1.1/1.4 MB 1.0 MB/s eta 0:00:01\n",
            "   -------------------------------- ------- 1.2/1.4 MB 1.1 MB/s eta 0:00:01\n",
            "   ---------------------------------- ----- 1.3/1.4 MB 1.1 MB/s eta 0:00:01\n",
            "   ------------------------------------ --- 1.3/1.4 MB 1.1 MB/s eta 0:00:01\n",
            "   ------------------------------------ --- 1.3/1.4 MB 1.1 MB/s eta 0:00:01\n",
            "   ------------------------------------ --- 1.3/1.4 MB 1.1 MB/s eta 0:00:01\n",
            "   ---------------------------------------  1.4/1.4 MB 1.1 MB/s eta 0:00:01\n",
            "   ---------------------------------------- 1.4/1.4 MB 1.1 MB/s eta 0:00:00\n",
            "Installing collected packages: mlxtend\n",
            "Successfully installed mlxtend-0.23.0\n"
          ]
        },
        {
          "name": "stderr",
          "output_type": "stream",
          "text": [
            "WARNING: Ignoring invalid distribution ~upyterlab (C:\\Users\\Anshuman\\AppData\\Local\\Programs\\Python\\Python311\\Lib\\site-packages)\n",
            "WARNING: Ignoring invalid distribution ~upyterlab (C:\\Users\\Anshuman\\AppData\\Local\\Programs\\Python\\Python311\\Lib\\site-packages)\n",
            "\n",
            "[notice] A new release of pip is available: 23.3.1 -> 23.3.2\n",
            "[notice] To update, run: python.exe -m pip install --upgrade pip\n"
          ]
        }
      ],
      "source": [
        "!pip install sklearn.model\n",
        "!pip install mlxtend\n"
      ]
    },
    {
      "cell_type": "code",
      "execution_count": 38,
      "metadata": {
        "id": "Ax7aUhwb6MC5"
      },
      "outputs": [],
      "source": [
        "import numpy as np\n",
        "import pandas as pd\n",
        "import matplotlib.pyplot as plt\n",
        "import sklearn"
      ]
    },
    {
      "cell_type": "code",
      "execution_count": 39,
      "metadata": {
        "id": "5az8bCy6lyJ4"
      },
      "outputs": [],
      "source": [
        "df = pd.read_csv('C:/Users/Anshuman/Downloads/placement.csv')"
      ]
    },
    {
      "cell_type": "markdown",
      "metadata": {
        "id": "H4iMfx0XnV7d"
      },
      "source": [
        "# Overviewing Dataset"
      ]
    },
    {
      "cell_type": "code",
      "execution_count": 40,
      "metadata": {
        "colab": {
          "base_uri": "https://localhost:8080/",
          "height": 206
        },
        "id": "Y9FuJiZdl9lA",
        "outputId": "2d8a956c-fb05-4afe-9269-2def33200986"
      },
      "outputs": [
        {
          "data": {
            "text/html": [
              "<div>\n",
              "<style scoped>\n",
              "    .dataframe tbody tr th:only-of-type {\n",
              "        vertical-align: middle;\n",
              "    }\n",
              "\n",
              "    .dataframe tbody tr th {\n",
              "        vertical-align: top;\n",
              "    }\n",
              "\n",
              "    .dataframe thead th {\n",
              "        text-align: right;\n",
              "    }\n",
              "</style>\n",
              "<table border=\"1\" class=\"dataframe\">\n",
              "  <thead>\n",
              "    <tr style=\"text-align: right;\">\n",
              "      <th></th>\n",
              "      <th>Unnamed: 0</th>\n",
              "      <th>cgpa</th>\n",
              "      <th>iq</th>\n",
              "      <th>placement</th>\n",
              "    </tr>\n",
              "  </thead>\n",
              "  <tbody>\n",
              "    <tr>\n",
              "      <th>0</th>\n",
              "      <td>0</td>\n",
              "      <td>6.8</td>\n",
              "      <td>123.0</td>\n",
              "      <td>1</td>\n",
              "    </tr>\n",
              "    <tr>\n",
              "      <th>1</th>\n",
              "      <td>1</td>\n",
              "      <td>5.9</td>\n",
              "      <td>106.0</td>\n",
              "      <td>0</td>\n",
              "    </tr>\n",
              "    <tr>\n",
              "      <th>2</th>\n",
              "      <td>2</td>\n",
              "      <td>5.3</td>\n",
              "      <td>121.0</td>\n",
              "      <td>0</td>\n",
              "    </tr>\n",
              "    <tr>\n",
              "      <th>3</th>\n",
              "      <td>3</td>\n",
              "      <td>7.4</td>\n",
              "      <td>132.0</td>\n",
              "      <td>1</td>\n",
              "    </tr>\n",
              "    <tr>\n",
              "      <th>4</th>\n",
              "      <td>4</td>\n",
              "      <td>5.8</td>\n",
              "      <td>142.0</td>\n",
              "      <td>0</td>\n",
              "    </tr>\n",
              "  </tbody>\n",
              "</table>\n",
              "</div>"
            ],
            "text/plain": [
              "   Unnamed: 0  cgpa     iq  placement\n",
              "0           0   6.8  123.0          1\n",
              "1           1   5.9  106.0          0\n",
              "2           2   5.3  121.0          0\n",
              "3           3   7.4  132.0          1\n",
              "4           4   5.8  142.0          0"
            ]
          },
          "execution_count": 40,
          "metadata": {},
          "output_type": "execute_result"
        }
      ],
      "source": [
        "df.head()"
      ]
    },
    {
      "cell_type": "markdown",
      "metadata": {
        "id": "EXM6v3cGnNQo"
      },
      "source": [
        "# Checking If there is non-uniformity in dataset"
      ]
    },
    {
      "cell_type": "code",
      "execution_count": 41,
      "metadata": {
        "colab": {
          "base_uri": "https://localhost:8080/"
        },
        "id": "je1he-L9nAty",
        "outputId": "8c8e1d54-defb-4c8a-f165-7bea84e80c45"
      },
      "outputs": [
        {
          "name": "stdout",
          "output_type": "stream",
          "text": [
            "<class 'pandas.core.frame.DataFrame'>\n",
            "RangeIndex: 100 entries, 0 to 99\n",
            "Data columns (total 4 columns):\n",
            " #   Column      Non-Null Count  Dtype  \n",
            "---  ------      --------------  -----  \n",
            " 0   Unnamed: 0  100 non-null    int64  \n",
            " 1   cgpa        100 non-null    float64\n",
            " 2   iq          100 non-null    float64\n",
            " 3   placement   100 non-null    int64  \n",
            "dtypes: float64(2), int64(2)\n",
            "memory usage: 3.3 KB\n"
          ]
        }
      ],
      "source": [
        "df.info()"
      ]
    },
    {
      "cell_type": "markdown",
      "metadata": {
        "id": "vQ5sR-cXnZGG"
      },
      "source": [
        "# Removing First Colummn"
      ]
    },
    {
      "cell_type": "code",
      "execution_count": 42,
      "metadata": {
        "id": "FHSwdXOtnb3X"
      },
      "outputs": [],
      "source": [
        "df = df.drop(df.columns[[0]], axis=1)"
      ]
    },
    {
      "cell_type": "code",
      "execution_count": 43,
      "metadata": {
        "colab": {
          "base_uri": "https://localhost:8080/",
          "height": 206
        },
        "id": "L4i2EjRNnio1",
        "outputId": "e0f5aebe-e6c0-447d-c34a-ea8cb6bc3aa6"
      },
      "outputs": [
        {
          "data": {
            "text/html": [
              "<div>\n",
              "<style scoped>\n",
              "    .dataframe tbody tr th:only-of-type {\n",
              "        vertical-align: middle;\n",
              "    }\n",
              "\n",
              "    .dataframe tbody tr th {\n",
              "        vertical-align: top;\n",
              "    }\n",
              "\n",
              "    .dataframe thead th {\n",
              "        text-align: right;\n",
              "    }\n",
              "</style>\n",
              "<table border=\"1\" class=\"dataframe\">\n",
              "  <thead>\n",
              "    <tr style=\"text-align: right;\">\n",
              "      <th></th>\n",
              "      <th>cgpa</th>\n",
              "      <th>iq</th>\n",
              "      <th>placement</th>\n",
              "    </tr>\n",
              "  </thead>\n",
              "  <tbody>\n",
              "    <tr>\n",
              "      <th>0</th>\n",
              "      <td>6.8</td>\n",
              "      <td>123.0</td>\n",
              "      <td>1</td>\n",
              "    </tr>\n",
              "    <tr>\n",
              "      <th>1</th>\n",
              "      <td>5.9</td>\n",
              "      <td>106.0</td>\n",
              "      <td>0</td>\n",
              "    </tr>\n",
              "    <tr>\n",
              "      <th>2</th>\n",
              "      <td>5.3</td>\n",
              "      <td>121.0</td>\n",
              "      <td>0</td>\n",
              "    </tr>\n",
              "    <tr>\n",
              "      <th>3</th>\n",
              "      <td>7.4</td>\n",
              "      <td>132.0</td>\n",
              "      <td>1</td>\n",
              "    </tr>\n",
              "    <tr>\n",
              "      <th>4</th>\n",
              "      <td>5.8</td>\n",
              "      <td>142.0</td>\n",
              "      <td>0</td>\n",
              "    </tr>\n",
              "  </tbody>\n",
              "</table>\n",
              "</div>"
            ],
            "text/plain": [
              "   cgpa     iq  placement\n",
              "0   6.8  123.0          1\n",
              "1   5.9  106.0          0\n",
              "2   5.3  121.0          0\n",
              "3   7.4  132.0          1\n",
              "4   5.8  142.0          0"
            ]
          },
          "execution_count": 43,
          "metadata": {},
          "output_type": "execute_result"
        }
      ],
      "source": [
        "df.head()"
      ]
    },
    {
      "cell_type": "markdown",
      "metadata": {
        "id": "hdR4w-N9pYql"
      },
      "source": [
        "# Visualising data"
      ]
    },
    {
      "cell_type": "code",
      "execution_count": 44,
      "metadata": {
        "colab": {
          "base_uri": "https://localhost:8080/",
          "height": 447
        },
        "id": "w9VZbYdApaq3",
        "outputId": "50726ada-0998-46df-b27c-0a8ae3e76e71"
      },
      "outputs": [
        {
          "data": {
            "text/plain": [
              "<matplotlib.collections.PathCollection at 0x2562cb8a510>"
            ]
          },
          "execution_count": 44,
          "metadata": {},
          "output_type": "execute_result"
        },
        {
          "data": {
            "image/png": "[encoded data removed]",
            "text/plain": [
              "<Figure size 640x480 with 1 Axes>"
            ]
          },
          "metadata": {},
          "output_type": "display_data"
        }
      ],
      "source": [
        "plt.scatter(df['cgpa'], df['iq'], c=df['placement'])"
      ]
    },
    {
      "cell_type": "markdown",
      "metadata": {
        "id": "Iw3fAPb_pYky"
      },
      "source": [
        "# Extracting Input and Output columns / Independant and Dependant"
      ]
    },
    {
      "cell_type": "code",
      "execution_count": 45,
      "metadata": {
        "id": "coY8yi8MqJOg"
      },
      "outputs": [],
      "source": [
        "x = df.iloc[:, 0:2]\n",
        "y = df.iloc[:, -1]"
      ]
    },
    {
      "cell_type": "code",
      "execution_count": 46,
      "metadata": {
        "colab": {
          "base_uri": "https://localhost:8080/",
          "height": 423
        },
        "id": "I2Mk07mIqsFJ",
        "outputId": "1b67383a-e0bf-4a03-8dec-135b073fce00"
      },
      "outputs": [
        {
          "data": {
            "text/html": [
              "<div>\n",
              "<style scoped>\n",
              "    .dataframe tbody tr th:only-of-type {\n",
              "        vertical-align: middle;\n",
              "    }\n",
              "\n",
              "    .dataframe tbody tr th {\n",
              "        vertical-align: top;\n",
              "    }\n",
              "\n",
              "    .dataframe thead th {\n",
              "        text-align: right;\n",
              "    }\n",
              "</style>\n",
              "<table border=\"1\" class=\"dataframe\">\n",
              "  <thead>\n",
              "    <tr style=\"text-align: right;\">\n",
              "      <th></th>\n",
              "      <th>cgpa</th>\n",
              "      <th>iq</th>\n",
              "    </tr>\n",
              "  </thead>\n",
              "  <tbody>\n",
              "    <tr>\n",
              "      <th>0</th>\n",
              "      <td>6.8</td>\n",
              "      <td>123.0</td>\n",
              "    </tr>\n",
              "    <tr>\n",
              "      <th>1</th>\n",
              "      <td>5.9</td>\n",
              "      <td>106.0</td>\n",
              "    </tr>\n",
              "    <tr>\n",
              "      <th>2</th>\n",
              "      <td>5.3</td>\n",
              "      <td>121.0</td>\n",
              "    </tr>\n",
              "    <tr>\n",
              "      <th>3</th>\n",
              "      <td>7.4</td>\n",
              "      <td>132.0</td>\n",
              "    </tr>\n",
              "    <tr>\n",
              "      <th>4</th>\n",
              "      <td>5.8</td>\n",
              "      <td>142.0</td>\n",
              "    </tr>\n",
              "    <tr>\n",
              "      <th>...</th>\n",
              "      <td>...</td>\n",
              "      <td>...</td>\n",
              "    </tr>\n",
              "    <tr>\n",
              "      <th>95</th>\n",
              "      <td>4.3</td>\n",
              "      <td>200.0</td>\n",
              "    </tr>\n",
              "    <tr>\n",
              "      <th>96</th>\n",
              "      <td>4.4</td>\n",
              "      <td>42.0</td>\n",
              "    </tr>\n",
              "    <tr>\n",
              "      <th>97</th>\n",
              "      <td>6.7</td>\n",
              "      <td>182.0</td>\n",
              "    </tr>\n",
              "    <tr>\n",
              "      <th>98</th>\n",
              "      <td>6.3</td>\n",
              "      <td>103.0</td>\n",
              "    </tr>\n",
              "    <tr>\n",
              "      <th>99</th>\n",
              "      <td>6.2</td>\n",
              "      <td>113.0</td>\n",
              "    </tr>\n",
              "  </tbody>\n",
              "</table>\n",
              "<p>100 rows × 2 columns</p>\n",
              "</div>"
            ],
            "text/plain": [
              "    cgpa     iq\n",
              "0    6.8  123.0\n",
              "1    5.9  106.0\n",
              "2    5.3  121.0\n",
              "3    7.4  132.0\n",
              "4    5.8  142.0\n",
              "..   ...    ...\n",
              "95   4.3  200.0\n",
              "96   4.4   42.0\n",
              "97   6.7  182.0\n",
              "98   6.3  103.0\n",
              "99   6.2  113.0\n",
              "\n",
              "[100 rows x 2 columns]"
            ]
          },
          "execution_count": 46,
          "metadata": {},
          "output_type": "execute_result"
        }
      ],
      "source": [
        "x"
      ]
    },
    {
      "cell_type": "code",
      "execution_count": 47,
      "metadata": {
        "colab": {
          "base_uri": "https://localhost:8080/"
        },
        "id": "M_RG-UI1qv2S",
        "outputId": "7ef0ba1f-7b65-4e0d-cde6-9e6802e8c313"
      },
      "outputs": [
        {
          "data": {
            "text/plain": [
              "0     1\n",
              "1     0\n",
              "2     0\n",
              "3     1\n",
              "4     0\n",
              "     ..\n",
              "95    0\n",
              "96    0\n",
              "97    1\n",
              "98    1\n",
              "99    1\n",
              "Name: placement, Length: 100, dtype: int64"
            ]
          },
          "execution_count": 47,
          "metadata": {},
          "output_type": "execute_result"
        }
      ],
      "source": [
        "y"
      ]
    },
    {
      "cell_type": "markdown",
      "metadata": {
        "id": "xJM7K_curDlQ"
      },
      "source": [
        "# Train-Test-Split"
      ]
    },
    {
      "cell_type": "code",
      "execution_count": 48,
      "metadata": {
        "id": "qJB_mxtdrDTO"
      },
      "outputs": [],
      "source": [
        "from sklearn.model_selection import train_test_split\n",
        "\n",
        "x_train, x_test, y_train, y_test = train_test_split(x,y,test_size=0.1)\n"
      ]
    },
    {
      "cell_type": "code",
      "execution_count": 49,
      "metadata": {
        "colab": {
          "base_uri": "https://localhost:8080/",
          "height": 423
        },
        "id": "iLl_pYeTaxeV",
        "outputId": "110dcdfd-1235-47a3-cfa4-fed3493472c3"
      },
      "outputs": [
        {
          "data": {
            "text/html": [
              "<div>\n",
              "<style scoped>\n",
              "    .dataframe tbody tr th:only-of-type {\n",
              "        vertical-align: middle;\n",
              "    }\n",
              "\n",
              "    .dataframe tbody tr th {\n",
              "        vertical-align: top;\n",
              "    }\n",
              "\n",
              "    .dataframe thead th {\n",
              "        text-align: right;\n",
              "    }\n",
              "</style>\n",
              "<table border=\"1\" class=\"dataframe\">\n",
              "  <thead>\n",
              "    <tr style=\"text-align: right;\">\n",
              "      <th></th>\n",
              "      <th>cgpa</th>\n",
              "      <th>iq</th>\n",
              "    </tr>\n",
              "  </thead>\n",
              "  <tbody>\n",
              "    <tr>\n",
              "      <th>20</th>\n",
              "      <td>6.6</td>\n",
              "      <td>120.0</td>\n",
              "    </tr>\n",
              "    <tr>\n",
              "      <th>31</th>\n",
              "      <td>3.9</td>\n",
              "      <td>109.0</td>\n",
              "    </tr>\n",
              "    <tr>\n",
              "      <th>7</th>\n",
              "      <td>5.0</td>\n",
              "      <td>63.0</td>\n",
              "    </tr>\n",
              "    <tr>\n",
              "      <th>79</th>\n",
              "      <td>6.5</td>\n",
              "      <td>90.0</td>\n",
              "    </tr>\n",
              "    <tr>\n",
              "      <th>48</th>\n",
              "      <td>6.6</td>\n",
              "      <td>138.0</td>\n",
              "    </tr>\n",
              "    <tr>\n",
              "      <th>...</th>\n",
              "      <td>...</td>\n",
              "      <td>...</td>\n",
              "    </tr>\n",
              "    <tr>\n",
              "      <th>88</th>\n",
              "      <td>4.4</td>\n",
              "      <td>149.0</td>\n",
              "    </tr>\n",
              "    <tr>\n",
              "      <th>55</th>\n",
              "      <td>7.8</td>\n",
              "      <td>114.0</td>\n",
              "    </tr>\n",
              "    <tr>\n",
              "      <th>21</th>\n",
              "      <td>7.1</td>\n",
              "      <td>151.0</td>\n",
              "    </tr>\n",
              "    <tr>\n",
              "      <th>76</th>\n",
              "      <td>4.9</td>\n",
              "      <td>155.0</td>\n",
              "    </tr>\n",
              "    <tr>\n",
              "      <th>10</th>\n",
              "      <td>6.0</td>\n",
              "      <td>45.0</td>\n",
              "    </tr>\n",
              "  </tbody>\n",
              "</table>\n",
              "<p>90 rows × 2 columns</p>\n",
              "</div>"
            ],
            "text/plain": [
              "    cgpa     iq\n",
              "20   6.6  120.0\n",
              "31   3.9  109.0\n",
              "7    5.0   63.0\n",
              "79   6.5   90.0\n",
              "48   6.6  138.0\n",
              "..   ...    ...\n",
              "88   4.4  149.0\n",
              "55   7.8  114.0\n",
              "21   7.1  151.0\n",
              "76   4.9  155.0\n",
              "10   6.0   45.0\n",
              "\n",
              "[90 rows x 2 columns]"
            ]
          },
          "execution_count": 49,
          "metadata": {},
          "output_type": "execute_result"
        }
      ],
      "source": [
        "x_train"
      ]
    },
    {
      "cell_type": "code",
      "execution_count": 50,
      "metadata": {
        "colab": {
          "base_uri": "https://localhost:8080/",
          "height": 363
        },
        "id": "BSsqohg_a0Ll",
        "outputId": "d3a75feb-a81b-4da5-940d-2b8b3b56ebb2"
      },
      "outputs": [
        {
          "data": {
            "text/html": [
              "<div>\n",
              "<style scoped>\n",
              "    .dataframe tbody tr th:only-of-type {\n",
              "        vertical-align: middle;\n",
              "    }\n",
              "\n",
              "    .dataframe tbody tr th {\n",
              "        vertical-align: top;\n",
              "    }\n",
              "\n",
              "    .dataframe thead th {\n",
              "        text-align: right;\n",
              "    }\n",
              "</style>\n",
              "<table border=\"1\" class=\"dataframe\">\n",
              "  <thead>\n",
              "    <tr style=\"text-align: right;\">\n",
              "      <th></th>\n",
              "      <th>cgpa</th>\n",
              "      <th>iq</th>\n",
              "    </tr>\n",
              "  </thead>\n",
              "  <tbody>\n",
              "    <tr>\n",
              "      <th>60</th>\n",
              "      <td>6.9</td>\n",
              "      <td>139.0</td>\n",
              "    </tr>\n",
              "    <tr>\n",
              "      <th>70</th>\n",
              "      <td>6.3</td>\n",
              "      <td>127.0</td>\n",
              "    </tr>\n",
              "    <tr>\n",
              "      <th>58</th>\n",
              "      <td>8.0</td>\n",
              "      <td>79.0</td>\n",
              "    </tr>\n",
              "    <tr>\n",
              "      <th>97</th>\n",
              "      <td>6.7</td>\n",
              "      <td>182.0</td>\n",
              "    </tr>\n",
              "    <tr>\n",
              "      <th>61</th>\n",
              "      <td>7.3</td>\n",
              "      <td>137.0</td>\n",
              "    </tr>\n",
              "    <tr>\n",
              "      <th>92</th>\n",
              "      <td>5.2</td>\n",
              "      <td>110.0</td>\n",
              "    </tr>\n",
              "    <tr>\n",
              "      <th>85</th>\n",
              "      <td>5.8</td>\n",
              "      <td>166.0</td>\n",
              "    </tr>\n",
              "    <tr>\n",
              "      <th>67</th>\n",
              "      <td>5.0</td>\n",
              "      <td>118.0</td>\n",
              "    </tr>\n",
              "    <tr>\n",
              "      <th>5</th>\n",
              "      <td>7.1</td>\n",
              "      <td>48.0</td>\n",
              "    </tr>\n",
              "    <tr>\n",
              "      <th>29</th>\n",
              "      <td>7.0</td>\n",
              "      <td>112.0</td>\n",
              "    </tr>\n",
              "  </tbody>\n",
              "</table>\n",
              "</div>"
            ],
            "text/plain": [
              "    cgpa     iq\n",
              "60   6.9  139.0\n",
              "70   6.3  127.0\n",
              "58   8.0   79.0\n",
              "97   6.7  182.0\n",
              "61   7.3  137.0\n",
              "92   5.2  110.0\n",
              "85   5.8  166.0\n",
              "67   5.0  118.0\n",
              "5    7.1   48.0\n",
              "29   7.0  112.0"
            ]
          },
          "execution_count": 50,
          "metadata": {},
          "output_type": "execute_result"
        }
      ],
      "source": [
        "x_test"
      ]
    },
    {
      "cell_type": "code",
      "execution_count": 51,
      "metadata": {
        "colab": {
          "base_uri": "https://localhost:8080/"
        },
        "id": "fKTWDLmia1--",
        "outputId": "12458be8-1466-47f8-e548-ef9991d8e88c"
      },
      "outputs": [
        {
          "data": {
            "text/plain": [
              "20    1\n",
              "31    0\n",
              "7     0\n",
              "79    1\n",
              "48    1\n",
              "     ..\n",
              "88    0\n",
              "55    1\n",
              "21    1\n",
              "76    0\n",
              "10    1\n",
              "Name: placement, Length: 90, dtype: int64"
            ]
          },
          "execution_count": 51,
          "metadata": {},
          "output_type": "execute_result"
        }
      ],
      "source": [
        "y_train"
      ]
    },
    {
      "cell_type": "code",
      "execution_count": 52,
      "metadata": {
        "colab": {
          "base_uri": "https://localhost:8080/"
        },
        "id": "NbNeu6yIa3iJ",
        "outputId": "4335f186-3973-4532-a1b4-1c38c0e9817d"
      },
      "outputs": [
        {
          "data": {
            "text/plain": [
              "60    1\n",
              "70    1\n",
              "58    1\n",
              "97    1\n",
              "61    1\n",
              "92    0\n",
              "85    1\n",
              "67    0\n",
              "5     1\n",
              "29    1\n",
              "Name: placement, dtype: int64"
            ]
          },
          "execution_count": 52,
          "metadata": {},
          "output_type": "execute_result"
        }
      ],
      "source": [
        "y_test"
      ]
    },
    {
      "cell_type": "markdown",
      "metadata": {
        "id": "xr-m4uO0bQOJ"
      },
      "source": [
        "# Scaling data"
      ]
    },
    {
      "cell_type": "code",
      "execution_count": 53,
      "metadata": {
        "id": "1RrFlf7kbrM0"
      },
      "outputs": [],
      "source": [
        "from sklearn.preprocessing import StandardScaler\n",
        "\n",
        "scaler = StandardScaler()"
      ]
    },
    {
      "cell_type": "code",
      "execution_count": 54,
      "metadata": {
        "id": "DgWvNMSDb5kA"
      },
      "outputs": [],
      "source": [
        "x_train = scaler.fit_transform(x_train)\n",
        "x_test = scaler.transform(x_test)"
      ]
    },
    {
      "cell_type": "markdown",
      "metadata": {
        "id": "jYjUZfVZc8wT"
      },
      "source": [
        "Viewing Scaled Data"
      ]
    },
    {
      "cell_type": "code",
      "execution_count": 55,
      "metadata": {
        "colab": {
          "base_uri": "https://localhost:8080/"
        },
        "id": "HIkK1LwKc2K5",
        "outputId": "997059d0-3a48-426a-f3f8-f4b9ee63d9ac"
      },
      "outputs": [
        {
          "data": {
            "text/plain": [
              "array([[ 0.58393346, -0.09435813],\n",
              "       [-1.77314015, -0.36910682],\n",
              "       [-0.8128509 , -1.51805587],\n",
              "       [ 0.49663444, -0.84367273],\n",
              "       [ 0.58393346,  0.35523062],\n",
              "       [-0.72555188, -1.44312441],\n",
              "       [ 0.93312955,  1.2793853 ],\n",
              "       [-1.68584113, -0.5939012 ],\n",
              "       [-1.07474797, -0.91860419],\n",
              "       [-1.68584113, -1.21833003],\n",
              "       [ 0.23473737, -0.26919821],\n",
              "       [-0.20175774,  0.2053677 ],\n",
              "       [ 1.8934188 ,  1.05459092],\n",
              "       [-0.46365481,  0.28029916],\n",
              "       [ 0.06013933, -1.44312441],\n",
              "       [ 0.93312955,  0.38020778],\n",
              "       [-0.90014992,  1.80390551],\n",
              "       [ 1.19502662, -1.84275886],\n",
              "       [-0.0271597 , -0.44403828],\n",
              "       [ 0.06013933, -0.54394689],\n",
              "       [ 1.28232564,  0.2053677 ],\n",
              "       [ 0.49663444,  0.904728  ],\n",
              "       [ 1.8934188 ,  0.62997931],\n",
              "       [-0.90014992,  0.25532201],\n",
              "       [-0.90014992, -1.56801018],\n",
              "       [ 2.24261489, -0.09435813],\n",
              "       [-0.46365481, -0.41906113],\n",
              "       [ 0.67123248,  0.75486508],\n",
              "       [-0.98744894,  1.12952238],\n",
              "       [-0.63825285,  2.50326581],\n",
              "       [ 0.75853151, -0.84367273],\n",
              "       [ 0.14743835, -1.06846711],\n",
              "       [ 1.36962467, -1.56801018],\n",
              "       [-0.90014992, -0.09435813],\n",
              "       [-0.98744894,  0.97965946],\n",
              "       [ 0.14743835,  0.80481938],\n",
              "       [ 1.45692369, -0.86864989],\n",
              "       [-0.55095383, -0.06938098],\n",
              "       [-0.63825285,  0.2053677 ],\n",
              "       [ 0.14743835, -1.46810156],\n",
              "       [ 0.75853151, -0.01942667],\n",
              "       [-0.72555188,  1.30436245],\n",
              "       [ 1.36962467,  0.85477369],\n",
              "       [-0.46365481, -0.24422105],\n",
              "       [-0.8128509 , -0.81869558],\n",
              "       [ 0.40933542, -0.19426675],\n",
              "       [-0.20175774,  0.48011639],\n",
              "       [ 0.32203639, -0.51896974],\n",
              "       [-2.29693428,  1.47920252],\n",
              "       [ 0.06013933,  0.00555048],\n",
              "       [-0.46365481,  0.38020778],\n",
              "       [-0.11445872,  0.45513924],\n",
              "       [ 0.40933542,  0.43016208],\n",
              "       [-0.72555188,  0.10545909],\n",
              "       [-0.63825285,  0.92970515],\n",
              "       [ 0.49663444, -2.16746186],\n",
              "       [ 0.06013933,  0.62997931],\n",
              "       [-1.16204699,  0.55504785],\n",
              "       [ 0.75853151,  0.43016208],\n",
              "       [ 0.32203639,  0.10545909],\n",
              "       [ 0.75853151, -0.29417536],\n",
              "       [-0.98744894,  0.43016208],\n",
              "       [ 0.84583053,  0.35523062],\n",
              "       [ 2.06801685,  1.10454522],\n",
              "       [ 0.93312955, -1.49307872],\n",
              "       [-1.42394406,  1.90381413],\n",
              "       [-0.63825285, -0.84367273],\n",
              "       [-0.90014992,  0.67993362],\n",
              "       [ 0.93312955,  1.87883697],\n",
              "       [-1.33664503, -2.04257609],\n",
              "       [ 0.14743835,  0.2053677 ],\n",
              "       [ 0.49663444,  0.1554134 ],\n",
              "       [-1.07474797, -0.06938098],\n",
              "       [-0.55095383, -0.24422105],\n",
              "       [ 0.14743835, -0.51896974],\n",
              "       [-2.12233624,  2.72806018],\n",
              "       [-1.07474797, -1.79280456],\n",
              "       [-0.20175774,  0.40518493],\n",
              "       [ 1.19502662, -0.19426675],\n",
              "       [-0.20175774,  1.12952238],\n",
              "       [ 0.84583053, -0.69380981],\n",
              "       [-0.98744894, -0.29417536],\n",
              "       [ 1.36962467,  0.1554134 ],\n",
              "       [ 1.45692369,  0.10545909],\n",
              "       [ 1.19502662, -0.94358135],\n",
              "       [-1.33664503,  0.62997931],\n",
              "       [ 1.63152173, -0.24422105],\n",
              "       [ 1.02042858,  0.67993362],\n",
              "       [-0.90014992,  0.77984223],\n",
              "       [ 0.06013933, -1.96764463]])"
            ]
          },
          "execution_count": 55,
          "metadata": {},
          "output_type": "execute_result"
        }
      ],
      "source": [
        "x_train"
      ]
    },
    {
      "cell_type": "code",
      "execution_count": 56,
      "metadata": {
        "colab": {
          "base_uri": "https://localhost:8080/"
        },
        "id": "O41rNOzPcsdi",
        "outputId": "4987cc50-c02d-486c-b4b9-c5b63db2d1cc"
      },
      "outputs": [
        {
          "data": {
            "text/plain": [
              "array([[ 0.84583053,  0.38020778],\n",
              "       [ 0.32203639,  0.08048194],\n",
              "       [ 1.80611978, -1.11842142],\n",
              "       [ 0.67123248,  1.45422537],\n",
              "       [ 1.19502662,  0.33025347],\n",
              "       [-0.63825285, -0.34412967],\n",
              "       [-0.11445872,  1.05459092],\n",
              "       [-0.8128509 , -0.14431244],\n",
              "       [ 1.02042858, -1.89271317],\n",
              "       [ 0.93312955, -0.29417536]])"
            ]
          },
          "execution_count": 56,
          "metadata": {},
          "output_type": "execute_result"
        }
      ],
      "source": [
        "x_test"
      ]
    },
    {
      "cell_type": "markdown",
      "metadata": {
        "id": "edfJLVy3dMK1"
      },
      "source": [
        "# **Train the model**"
      ]
    },
    {
      "cell_type": "code",
      "execution_count": 57,
      "metadata": {
        "id": "FyQzuE1zdUn4"
      },
      "outputs": [],
      "source": [
        "from sklearn.linear_model import LogisticRegression\n",
        "\n",
        "clr = LogisticRegression()"
      ]
    },
    {
      "cell_type": "markdown",
      "metadata": {
        "id": "0E3mhZ4wdvJ-"
      },
      "source": [
        "Training with data"
      ]
    },
    {
      "cell_type": "code",
      "execution_count": 58,
      "metadata": {
        "colab": {
          "base_uri": "https://localhost:8080/",
          "height": 74
        },
        "id": "QuGXmLCIdx87",
        "outputId": "1688ad01-8def-4d4e-cfeb-f794b9b1e95b"
      },
      "outputs": [
        {
          "data": {
            "text/html": [
              "<style>#sk-container-id-2 {color: black;}#sk-container-id-2 pre{padding: 0;}#sk-container-id-2 div.sk-toggleable {background-color: white;}#sk-container-id-2 label.sk-toggleable__label {cursor: pointer;display: block;width: 100%;margin-bottom: 0;padding: 0.3em;box-sizing: border-box;text-align: center;}#sk-container-id-2 label.sk-toggleable__label-arrow:before {content: \"▸\";float: left;margin-right: 0.25em;color: #696969;}#sk-container-id-2 label.sk-toggleable__label-arrow:hover:before {color: black;}#sk-container-id-2 div.sk-estimator:hover label.sk-toggleable__label-arrow:before {color: black;}#sk-container-id-2 div.sk-toggleable__content {max-height: 0;max-width: 0;overflow: hidden;text-align: left;background-color: #f0f8ff;}#sk-container-id-2 div.sk-toggleable__content pre {margin: 0.2em;color: black;border-radius: 0.25em;background-color: #f0f8ff;}#sk-container-id-2 input.sk-toggleable__control:checked~div.sk-toggleable__content {max-height: 200px;max-width: 100%;overflow: auto;}#sk-container-id-2 input.sk-toggleable__control:checked~label.sk-toggleable__label-arrow:before {content: \"▾\";}#sk-container-id-2 div.sk-estimator input.sk-toggleable__control:checked~label.sk-toggleable__label {background-color: #d4ebff;}#sk-container-id-2 div.sk-label input.sk-toggleable__control:checked~label.sk-toggleable__label {background-color: #d4ebff;}#sk-container-id-2 input.sk-hidden--visually {border: 0;clip: rect(1px 1px 1px 1px);clip: rect(1px, 1px, 1px, 1px);height: 1px;margin: -1px;overflow: hidden;padding: 0;position: absolute;width: 1px;}#sk-container-id-2 div.sk-estimator {font-family: monospace;background-color: #f0f8ff;border: 1px dotted black;border-radius: 0.25em;box-sizing: border-box;margin-bottom: 0.5em;}#sk-container-id-2 div.sk-estimator:hover {background-color: #d4ebff;}#sk-container-id-2 div.sk-parallel-item::after {content: \"\";width: 100%;border-bottom: 1px solid gray;flex-grow: 1;}#sk-container-id-2 div.sk-label:hover label.sk-toggleable__label {background-color: #d4ebff;}#sk-container-id-2 div.sk-serial::before {content: \"\";position: absolute;border-left: 1px solid gray;box-sizing: border-box;top: 0;bottom: 0;left: 50%;z-index: 0;}#sk-container-id-2 div.sk-serial {display: flex;flex-direction: column;align-items: center;background-color: white;padding-right: 0.2em;padding-left: 0.2em;position: relative;}#sk-container-id-2 div.sk-item {position: relative;z-index: 1;}#sk-container-id-2 div.sk-parallel {display: flex;align-items: stretch;justify-content: center;background-color: white;position: relative;}#sk-container-id-2 div.sk-item::before, #sk-container-id-2 div.sk-parallel-item::before {content: \"\";position: absolute;border-left: 1px solid gray;box-sizing: border-box;top: 0;bottom: 0;left: 50%;z-index: -1;}#sk-container-id-2 div.sk-parallel-item {display: flex;flex-direction: column;z-index: 1;position: relative;background-color: white;}#sk-container-id-2 div.sk-parallel-item:first-child::after {align-self: flex-end;width: 50%;}#sk-container-id-2 div.sk-parallel-item:last-child::after {align-self: flex-start;width: 50%;}#sk-container-id-2 div.sk-parallel-item:only-child::after {width: 0;}#sk-container-id-2 div.sk-dashed-wrapped {border: 1px dashed gray;margin: 0 0.4em 0.5em 0.4em;box-sizing: border-box;padding-bottom: 0.4em;background-color: white;}#sk-container-id-2 div.sk-label label {font-family: monospace;font-weight: bold;display: inline-block;line-height: 1.2em;}#sk-container-id-2 div.sk-label-container {text-align: center;}#sk-container-id-2 div.sk-container {/* jupyter's `normalize.less` sets `[hidden] { display: none; }` but bootstrap.min.css set `[hidden] { display: none !important; }` so we also need the `!important` here to be able to override the default hidden behavior on the sphinx rendered scikit-learn.org. See: https://github.com/scikit-learn/scikit-learn/issues/21755 */display: inline-block !important;position: relative;}#sk-container-id-2 div.sk-text-repr-fallback {display: none;}</style><div id=\"sk-container-id-2\" class=\"sk-top-container\"><div class=\"sk-text-repr-fallback\"><pre>LogisticRegression()</pre><b>In a Jupyter environment, please rerun this cell to show the HTML representation or trust the notebook. <br />On GitHub, the HTML representation is unable to render, please try loading this page with nbviewer.org.</b></div><div class=\"sk-container\" hidden><div class=\"sk-item\"><div class=\"sk-estimator sk-toggleable\"><input class=\"sk-toggleable__control sk-hidden--visually\" id=\"sk-estimator-id-2\" type=\"checkbox\" checked><label for=\"sk-estimator-id-2\" class=\"sk-toggleable__label sk-toggleable__label-arrow\">LogisticRegression</label><div class=\"sk-toggleable__content\"><pre>LogisticRegression()</pre></div></div></div></div></div>"
            ],
            "text/plain": [
              "LogisticRegression()"
            ]
          },
          "execution_count": 58,
          "metadata": {},
          "output_type": "execute_result"
        }
      ],
      "source": [
        "clr.fit(x_train,y_train)"
      ]
    },
    {
      "cell_type": "markdown",
      "metadata": {
        "id": "F4Mv9l5LeH6F"
      },
      "source": [
        "**Evaluating the Data**"
      ]
    },
    {
      "cell_type": "code",
      "execution_count": 59,
      "metadata": {
        "id": "KH5ODtD0eNAN"
      },
      "outputs": [],
      "source": [
        "y_pred = clr.predict(x_test)"
      ]
    },
    {
      "cell_type": "code",
      "execution_count": 60,
      "metadata": {
        "colab": {
          "base_uri": "https://localhost:8080/"
        },
        "id": "AOqgbXpIsCvB",
        "outputId": "d48dc8f4-860e-4560-d07b-6b8022fe914d"
      },
      "outputs": [
        {
          "data": {
            "text/plain": [
              "60    1\n",
              "70    1\n",
              "58    1\n",
              "97    1\n",
              "61    1\n",
              "92    0\n",
              "85    1\n",
              "67    0\n",
              "5     1\n",
              "29    1\n",
              "Name: placement, dtype: int64"
            ]
          },
          "execution_count": 60,
          "metadata": {},
          "output_type": "execute_result"
        }
      ],
      "source": [
        "y_test"
      ]
    },
    {
      "cell_type": "markdown",
      "metadata": {
        "id": "JI3r2sCgskVi"
      },
      "source": [
        "#Accuracy Score"
      ]
    },
    {
      "cell_type": "code",
      "execution_count": 61,
      "metadata": {
        "colab": {
          "base_uri": "https://localhost:8080/"
        },
        "id": "cp-feU0wsnj2",
        "outputId": "1e09b13e-40de-4bdf-9b5a-11d753487da9"
      },
      "outputs": [
        {
          "data": {
            "text/plain": [
              "0.9"
            ]
          },
          "execution_count": 61,
          "metadata": {},
          "output_type": "execute_result"
        }
      ],
      "source": [
        "from sklearn.metrics import accuracy_score\n",
        "\n",
        "accuracy_score(y_test, y_pred)"
      ]
    },
    {
      "cell_type": "markdown",
      "metadata": {
        "id": "daiA3NfVtGG5"
      },
      "source": [
        "# Visualising Decision Boundary\n"
      ]
    },
    {
      "cell_type": "code",
      "execution_count": 62,
      "metadata": {
        "colab": {
          "base_uri": "https://localhost:8080/",
          "height": 447
        },
        "id": "msiGdI4jtMY9",
        "outputId": "4251f70e-b306-4900-f1f1-e2df9e41296b"
      },
      "outputs": [
        {
          "data": {
            "text/plain": [
              "<Axes: >"
            ]
          },
          "execution_count": 62,
          "metadata": {},
          "output_type": "execute_result"
        },
        {
          "data": {
            "image/png": "[encoded data removed]",
            "text/plain": [
              "<Figure size 640x480 with 1 Axes>"
            ]
          },
          "metadata": {},
          "output_type": "display_data"
        }
      ],
      "source": [
        "from mlxtend.plotting import plot_decision_regions\n",
        "\n",
        "plot_decision_regions(x_train, y_train.values, clf=clr, legend=2)"
      ]
    },
    {
      "cell_type": "markdown",
      "metadata": {
        "id": "6ojt2h8ht-qX"
      },
      "source": [
        "#Exporting Model"
      ]
    },
    {
      "cell_type": "code",
      "execution_count": 63,
      "metadata": {
        "id": "K2JpJUziuBBU"
      },
      "outputs": [],
      "source": [
        "import pickle\n",
        "\n",
        "pickle.dump(clr, open('model.pkl','wb'))"
      ]
    }
  ],
  "metadata": {
    "colab": {
      "provenance": []
    },
    "kernelspec": {
      "display_name": "Python 3",
      "name": "python3"
    },
    "language_info": {
      "codemirror_mode": {
        "name": "ipython",
        "version": 3
      },
      "file_extension": ".py",
      "mimetype": "text/x-python",
      "name": "python",
      "nbconvert_exporter": "python",
      "pygments_lexer": "ipython3",
      "version": "3.11.4"
    }
  },
  "nbformat": 4,
  "nbformat_minor": 0
}
